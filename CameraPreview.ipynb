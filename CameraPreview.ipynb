{
  "nbformat": 4,
  "nbformat_minor": 0,
  "metadata": {
    "colab": {
      "provenance": [],
      "authorship_tag": "ABX9TyOssH/rUHKhsQPDUcfOnAcr",
      "include_colab_link": true
    },
    "kernelspec": {
      "name": "python3",
      "display_name": "Python 3"
    },
    "language_info": {
      "name": "python"
    }
  },
  "cells": [
    {
      "cell_type": "markdown",
      "metadata": {
        "id": "view-in-github",
        "colab_type": "text"
      },
      "source": [
        "<a href=\"https://colab.research.google.com/github/gyaneshhere/OpenCV/blob/main/CameraPreview.ipynb\" target=\"_parent\"><img src=\"https://colab.research.google.com/assets/colab-badge.svg\" alt=\"Open In Colab\"/></a>"
      ]
    },
    {
      "cell_type": "code",
      "execution_count": null,
      "metadata": {
        "id": "McpwmMA7ZCYA"
      },
      "outputs": [],
      "source": [
        "import cv2\n",
        "import sys\n",
        "\n",
        "s = 0\n",
        "if len(sys.argv) > 1:\n",
        "    s = sys.argv[1]\n",
        "\n",
        "source = cv2.VideoCapture(s)\n",
        "\n",
        "win_name = 'Camera Preview'\n",
        "cv2.namedWindow(win_name, cv2.WINDOW_NORMAL)\n",
        "\n",
        "while cv2.waitKey(1) != 27: # Escape\n",
        "    has_frame, frame = source.read()\n",
        "    if not has_frame:\n",
        "        break\n",
        "    cv2.imshow(win_name, frame)\n",
        "\n",
        "source.release()\n",
        "cv2.destroyWindow(win_name)"
      ]
    }
  ]
}